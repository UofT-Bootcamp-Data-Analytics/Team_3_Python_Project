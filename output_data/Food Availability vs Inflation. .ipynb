{
 "cells": [
  {
   "cell_type": "code",
   "execution_count": 1,
   "id": "7d44c386",
   "metadata": {},
   "outputs": [],
   "source": [
    "#Setups and data cleaning. \n",
    "import matplotlib.pyplot as plt\n",
    "import pandas as pd\n",
    "import numpy as np\n",
    "import scipy.stats as st \n",
    "from scipy.stats import pearsonr, linregress\n",
    "\n",
    "food_inflation_data_path = \"inflation.csv\"\n",
    "food_ava_data_path = \"ava.csv\"\n",
    "\n",
    "food_ava_data = pd.read_csv(food_ava_data_path)\n",
    "food_inflation_data = pd.read_csv(food_inflation_data_path)\n"
   ]
  },
  {
   "cell_type": "code",
   "execution_count": 2,
   "id": "01427a20",
   "metadata": {},
   "outputs": [],
   "source": [
    "#filter data\n",
    "to_remove = [\"..\", \"F\", \"x\"]\n",
    "to_remove = [\"Kilograms per person, per year\", \"Litres per person, per year\"]\n",
    "\n",
    "filtered_food_ava_data = food_ava_data[~food_ava_data.apply(lambda row: any(val in str(row.values) for val in to_remove), axis=1)].reset_index(drop=True)\n",
    "\n",
    "filtered_food_ava_data.to_csv(food_ava_data_path, index=False)"
   ]
  },
  {
   "cell_type": "code",
   "execution_count": 3,
   "id": "002e7309",
   "metadata": {},
   "outputs": [
    {
     "data": {
      "text/html": [
       "<div>\n",
       "<style scoped>\n",
       "    .dataframe tbody tr th:only-of-type {\n",
       "        vertical-align: middle;\n",
       "    }\n",
       "\n",
       "    .dataframe tbody tr th {\n",
       "        vertical-align: top;\n",
       "    }\n",
       "\n",
       "    .dataframe thead th {\n",
       "        text-align: right;\n",
       "    }\n",
       "</style>\n",
       "<table border=\"1\" class=\"dataframe\">\n",
       "  <thead>\n",
       "    <tr style=\"text-align: right;\">\n",
       "      <th></th>\n",
       "      <th>Commodity</th>\n",
       "      <th>2018</th>\n",
       "      <th>2019</th>\n",
       "      <th>2020</th>\n",
       "      <th>2021</th>\n",
       "      <th>2022</th>\n",
       "    </tr>\n",
       "  </thead>\n",
       "  <tbody>\n",
       "    <tr>\n",
       "      <th>0</th>\n",
       "      <td>Food purchased from stores</td>\n",
       "      <td>142.3</td>\n",
       "      <td>147.6</td>\n",
       "      <td>151.1</td>\n",
       "      <td>154.4</td>\n",
       "      <td>169.5</td>\n",
       "    </tr>\n",
       "    <tr>\n",
       "      <th>1</th>\n",
       "      <td>Meat</td>\n",
       "      <td>157.8</td>\n",
       "      <td>163.8</td>\n",
       "      <td>171.2</td>\n",
       "      <td>178.6</td>\n",
       "      <td>193.0</td>\n",
       "    </tr>\n",
       "    <tr>\n",
       "      <th>2</th>\n",
       "      <td>Fresh or frozen meat (excluding poultry)</td>\n",
       "      <td>167.0</td>\n",
       "      <td>171.7</td>\n",
       "      <td>181.3</td>\n",
       "      <td>187.1</td>\n",
       "      <td>200.7</td>\n",
       "    </tr>\n",
       "    <tr>\n",
       "      <th>3</th>\n",
       "      <td>Fresh or frozen poultry</td>\n",
       "      <td>154.8</td>\n",
       "      <td>160.0</td>\n",
       "      <td>164.0</td>\n",
       "      <td>174.6</td>\n",
       "      <td>186.8</td>\n",
       "    </tr>\n",
       "    <tr>\n",
       "      <th>4</th>\n",
       "      <td>Processed meat</td>\n",
       "      <td>147.1</td>\n",
       "      <td>154.6</td>\n",
       "      <td>162.4</td>\n",
       "      <td>168.8</td>\n",
       "      <td>185.0</td>\n",
       "    </tr>\n",
       "  </tbody>\n",
       "</table>\n",
       "</div>"
      ],
      "text/plain": [
       "                                  Commodity   2018   2019   2020   2021   2022\n",
       "0                Food purchased from stores  142.3  147.6  151.1  154.4  169.5\n",
       "1                                      Meat  157.8  163.8  171.2  178.6  193.0\n",
       "2  Fresh or frozen meat (excluding poultry)  167.0  171.7  181.3  187.1  200.7\n",
       "3                   Fresh or frozen poultry  154.8  160.0  164.0  174.6  186.8\n",
       "4                            Processed meat  147.1  154.6  162.4  168.8  185.0"
      ]
     },
     "execution_count": 3,
     "metadata": {},
     "output_type": "execute_result"
    }
   ],
   "source": [
    "#Inflation Table Sample \n",
    "food_inflation_data.head()"
   ]
  },
  {
   "cell_type": "code",
   "execution_count": 4,
   "id": "c79fe616",
   "metadata": {},
   "outputs": [
    {
     "name": "stdout",
     "output_type": "stream",
     "text": [
      "Greatest Inflation Increase:\n",
      "Product: Processed meat\n",
      "Greatest Inflation Change: 25.764785859959215\n",
      "\n",
      "Least Inflation Increase:\n",
      "Product: Fish, seafood and other marine products\n",
      "Inflation Change: 14.930808448652586\n"
     ]
    }
   ],
   "source": [
    "# Calculate the inflation change from 2018 to 2022\n",
    "food_inflation_data[\"Change 2018-2022\"] = ((food_inflation_data[\"2022\"] - food_inflation_data[\"2018\"]) / food_inflation_data[\"2018\"]) * 100\n",
    "\n",
    "# Find the row with the greatest inflation change\n",
    "max_inflation_row = food_inflation_data.loc[food_inflation_data[\"Change 2018-2022\"].idxmax()]\n",
    "min_inflation_row = food_inflation_data.loc[food_inflation_data[\"Change 2018-2022\"].idxmin()]\n",
    "\n",
    "# Retrieve the product and the corresponding inflation change\n",
    "greatest_product = max_inflation_row[\"Commodity\"]\n",
    "greatest_inflation = max_inflation_row[\"Change 2018-2022\"]\n",
    "\n",
    "least_product = min_inflation_row[\"Commodity\"]\n",
    "least_inflation = min_inflation_row[\"Change 2018-2022\"]\n",
    "\n",
    "# Print the results\n",
    "print(\"Greatest Inflation Increase:\")\n",
    "print(\"Product:\", greatest_product)\n",
    "print(\"Greatest Inflation Change:\", greatest_inflation)\n",
    "\n",
    "print(\"\\nLeast Inflation Increase:\")\n",
    "print(\"Product:\", least_product)\n",
    "print(\"Inflation Change:\", least_inflation)\n"
   ]
  },
  {
   "cell_type": "code",
   "execution_count": 5,
   "id": "5171f7cf",
   "metadata": {},
   "outputs": [
    {
     "name": "stdout",
     "output_type": "stream",
     "text": [
      "Fresh or frozen meat (excluding poultry): 20.179640718562865%\n",
      "Fresh or frozen poultry: 20.671834625322997%\n",
      "Meat: 22.306717363751574%\n",
      "Processed meat: 25.764785859959215%\n"
     ]
    }
   ],
   "source": [
    "# Calculate the inflation change from 2018 to 2022\n",
    "food_inflation_data[\"Change 2018-2022\"] = ((food_inflation_data[\"2022\"] - food_inflation_data[\"2018\"]) / food_inflation_data[\"2018\"]) * 100\n",
    "\n",
    "# Filter for meat-related data\n",
    "meat_data = food_inflation_data[food_inflation_data[\"Commodity\"].str.contains(\"meat|poultry\", case=False)]\n",
    "\n",
    "# Calculate the average inflation change for each meat-related commodity\n",
    "meat_average_changes = meat_data.groupby(\"Commodity\")[\"Change 2018-2022\"].mean()\n",
    "\n",
    "# Print the individual meat average inflation changes\n",
    "for meat_type, average_change in meat_average_changes.items():\n",
    "    print(f\"{meat_type}: {average_change}%\")"
   ]
  },
  {
   "cell_type": "code",
   "execution_count": 6,
   "id": "a6744a7d",
   "metadata": {},
   "outputs": [
    {
     "name": "stdout",
     "output_type": "stream",
     "text": [
      "\n",
      "Average Inflation Change 2019:\n",
      "Meat: 3.80%\n",
      "Fresh or frozen meat (excluding poultry): 2.81%\n",
      "Fresh or frozen poultry: 3.36%\n",
      "Processed meat: 5.10%\n",
      "\n",
      "Average Inflation Change 2020:\n",
      "Meat: 4.52%\n",
      "Fresh or frozen meat (excluding poultry): 5.59%\n",
      "Fresh or frozen poultry: 2.50%\n",
      "Processed meat: 5.05%\n",
      "\n",
      "Average Inflation Change 2021:\n",
      "Meat: 4.32%\n",
      "Fresh or frozen meat (excluding poultry): 3.20%\n",
      "Fresh or frozen poultry: 6.46%\n",
      "Processed meat: 3.94%\n",
      "\n",
      "Average Inflation Change 2022:\n",
      "Meat: 8.06%\n",
      "Fresh or frozen meat (excluding poultry): 7.27%\n",
      "Fresh or frozen poultry: 6.99%\n",
      "Processed meat: 9.60%\n"
     ]
    }
   ],
   "source": [
    "# Calculate the inflation change for each year\n",
    "for i in range(2019, 2023):\n",
    "    col_name = str(i)\n",
    "    prev_col_name = str(i-1)\n",
    "    period = f\"{prev_col_name}-{col_name}\"\n",
    "    food_inflation_data[period] = ((food_inflation_data[col_name] - food_inflation_data[prev_col_name]) / food_inflation_data[prev_col_name]) * 100\n",
    "\n",
    "# Filter for meat-related data\n",
    "meat_data = food_inflation_data[food_inflation_data[\"Commodity\"].str.contains(\"meat|poultry\", case=False)]\n",
    "\n",
    "# Calculate the average inflation change for each meat-related commodity in each year\n",
    "years = range(2019, 2023)\n",
    "\n",
    "for year in years:\n",
    "    print(f\"\\nAverage Inflation Change {year}:\")\n",
    "    for meat_type, row in meat_data.iterrows():\n",
    "        current_price = row[str(year)]\n",
    "        prev_price = row[str(year - 1)]\n",
    "        percent_change = ((current_price - prev_price) / prev_price) * 100\n",
    "        commodity_name = row[\"Commodity\"]\n",
    "        print(f\"{commodity_name}: {percent_change:.2f}%\")\n",
    "\n"
   ]
  },
  {
   "cell_type": "code",
   "execution_count": 7,
   "id": "120a74d1",
   "metadata": {},
   "outputs": [
    {
     "data": {
      "text/html": [
       "<div>\n",
       "<style scoped>\n",
       "    .dataframe tbody tr th:only-of-type {\n",
       "        vertical-align: middle;\n",
       "    }\n",
       "\n",
       "    .dataframe tbody tr th {\n",
       "        vertical-align: top;\n",
       "    }\n",
       "\n",
       "    .dataframe thead th {\n",
       "        text-align: right;\n",
       "    }\n",
       "</style>\n",
       "<table border=\"1\" class=\"dataframe\">\n",
       "  <thead>\n",
       "    <tr style=\"text-align: right;\">\n",
       "      <th></th>\n",
       "      <th>Commodity</th>\n",
       "      <th>2018</th>\n",
       "      <th>2019</th>\n",
       "      <th>2020</th>\n",
       "      <th>2021</th>\n",
       "      <th>2022</th>\n",
       "    </tr>\n",
       "  </thead>\n",
       "  <tbody>\n",
       "    <tr>\n",
       "      <th>0</th>\n",
       "      <td>Wheat flour</td>\n",
       "      <td>58.07</td>\n",
       "      <td>60.15</td>\n",
       "      <td>59.90</td>\n",
       "      <td>58.07</td>\n",
       "      <td>59.21</td>\n",
       "    </tr>\n",
       "    <tr>\n",
       "      <th>1</th>\n",
       "      <td>Rye flour</td>\n",
       "      <td>0.17</td>\n",
       "      <td>0.21</td>\n",
       "      <td>0.17</td>\n",
       "      <td>0.16</td>\n",
       "      <td>0.15</td>\n",
       "    </tr>\n",
       "    <tr>\n",
       "      <th>2</th>\n",
       "      <td>Oatmeal and rolled oats</td>\n",
       "      <td>4.09</td>\n",
       "      <td>4.74</td>\n",
       "      <td>1.78</td>\n",
       "      <td>0.76</td>\n",
       "      <td>1.60</td>\n",
       "    </tr>\n",
       "    <tr>\n",
       "      <th>3</th>\n",
       "      <td>Pot and pearl barley</td>\n",
       "      <td>0.51</td>\n",
       "      <td>0.47</td>\n",
       "      <td>0.49</td>\n",
       "      <td>0.25</td>\n",
       "      <td>0.19</td>\n",
       "    </tr>\n",
       "    <tr>\n",
       "      <th>4</th>\n",
       "      <td>Corn flour and meal</td>\n",
       "      <td>0.70</td>\n",
       "      <td>0.55</td>\n",
       "      <td>0.99</td>\n",
       "      <td>1.36</td>\n",
       "      <td>1.32</td>\n",
       "    </tr>\n",
       "  </tbody>\n",
       "</table>\n",
       "</div>"
      ],
      "text/plain": [
       "                 Commodity   2018   2019   2020   2021   2022\n",
       "0              Wheat flour  58.07  60.15  59.90  58.07  59.21\n",
       "1                Rye flour   0.17   0.21   0.17   0.16   0.15\n",
       "2  Oatmeal and rolled oats   4.09   4.74   1.78   0.76   1.60\n",
       "3     Pot and pearl barley   0.51   0.47   0.49   0.25   0.19\n",
       "4      Corn flour and meal   0.70   0.55   0.99   1.36   1.32"
      ]
     },
     "execution_count": 7,
     "metadata": {},
     "output_type": "execute_result"
    }
   ],
   "source": [
    "#Food Available Table Sample \n",
    "food_ava_data.head()"
   ]
  },
  {
   "cell_type": "code",
   "execution_count": null,
   "id": "b8d517ce",
   "metadata": {},
   "outputs": [],
   "source": []
  },
  {
   "cell_type": "code",
   "execution_count": 8,
   "id": "b690149c",
   "metadata": {},
   "outputs": [
    {
     "data": {
      "text/html": [
       "<div>\n",
       "<style scoped>\n",
       "    .dataframe tbody tr th:only-of-type {\n",
       "        vertical-align: middle;\n",
       "    }\n",
       "\n",
       "    .dataframe tbody tr th {\n",
       "        vertical-align: top;\n",
       "    }\n",
       "\n",
       "    .dataframe thead th {\n",
       "        text-align: right;\n",
       "    }\n",
       "</style>\n",
       "<table border=\"1\" class=\"dataframe\">\n",
       "  <thead>\n",
       "    <tr style=\"text-align: right;\">\n",
       "      <th></th>\n",
       "      <th>Commodity</th>\n",
       "      <th>2018</th>\n",
       "      <th>2019</th>\n",
       "      <th>2020</th>\n",
       "      <th>2021</th>\n",
       "      <th>2022</th>\n",
       "    </tr>\n",
       "  </thead>\n",
       "  <tbody>\n",
       "    <tr>\n",
       "      <th>77</th>\n",
       "      <td>Chicken, boneless weight</td>\n",
       "      <td>20.88</td>\n",
       "      <td>21.10</td>\n",
       "      <td>20.65</td>\n",
       "      <td>20.73</td>\n",
       "      <td>21.30</td>\n",
       "    </tr>\n",
       "    <tr>\n",
       "      <th>78</th>\n",
       "      <td>Chicken, eviscerated weight</td>\n",
       "      <td>34.69</td>\n",
       "      <td>35.05</td>\n",
       "      <td>34.30</td>\n",
       "      <td>34.43</td>\n",
       "      <td>35.38</td>\n",
       "    </tr>\n",
       "    <tr>\n",
       "      <th>79</th>\n",
       "      <td>Stewing hen, boneless weight</td>\n",
       "      <td>1.70</td>\n",
       "      <td>1.75</td>\n",
       "      <td>1.63</td>\n",
       "      <td>1.50</td>\n",
       "      <td>1.53</td>\n",
       "    </tr>\n",
       "    <tr>\n",
       "      <th>80</th>\n",
       "      <td>Stewing hen, eviscerated weight</td>\n",
       "      <td>2.82</td>\n",
       "      <td>2.90</td>\n",
       "      <td>2.71</td>\n",
       "      <td>2.49</td>\n",
       "      <td>2.54</td>\n",
       "    </tr>\n",
       "    <tr>\n",
       "      <th>81</th>\n",
       "      <td>Chicken and stewing hen total, boneless weight</td>\n",
       "      <td>22.58</td>\n",
       "      <td>22.85</td>\n",
       "      <td>22.28</td>\n",
       "      <td>22.22</td>\n",
       "      <td>22.83</td>\n",
       "    </tr>\n",
       "  </tbody>\n",
       "</table>\n",
       "</div>"
      ],
      "text/plain": [
       "                                         Commodity   2018   2019   2020  \\\n",
       "77                        Chicken, boneless weight  20.88  21.10  20.65   \n",
       "78                     Chicken, eviscerated weight  34.69  35.05  34.30   \n",
       "79                    Stewing hen, boneless weight   1.70   1.75   1.63   \n",
       "80                 Stewing hen, eviscerated weight   2.82   2.90   2.71   \n",
       "81  Chicken and stewing hen total, boneless weight  22.58  22.85  22.28   \n",
       "\n",
       "     2021   2022  \n",
       "77  20.73  21.30  \n",
       "78  34.43  35.38  \n",
       "79   1.50   1.53  \n",
       "80   2.49   2.54  \n",
       "81  22.22  22.83  "
      ]
     },
     "execution_count": 8,
     "metadata": {},
     "output_type": "execute_result"
    }
   ],
   "source": [
    "meat_commodities = [\"Chicken\", \"Pork\", \"Hen\", \"Offal\", \"Beef\", \"Turkey\", \"Mutton\", \"Veal\"]\n",
    "meat_availability = food_ava_data[food_ava_data[\"Commodity\"].str.contains('|'.join(meat_commodities), case=False)]\n",
    "\n",
    "meat_availability.head()\n"
   ]
  },
  {
   "cell_type": "code",
   "execution_count": 9,
   "id": "9cba0114",
   "metadata": {},
   "outputs": [
    {
     "name": "stdout",
     "output_type": "stream",
     "text": [
      "Average Change of Individual Meat Values:\n",
      "Chicken: 0.11125000000000052\n",
      "Pork: -0.30583333333333323\n",
      "Hen: 0.013750000000000123\n",
      "Offal: -0.07999999999999999\n",
      "Beef: -0.13916666666666688\n",
      "Turkey: -0.20874999999999994\n",
      "Mutton: 0.004166666666666673\n",
      "Veal: -0.07375000000000015\n",
      "\n",
      "Average Change of the Previous Values:\n",
      "-0.08479166666666663\n"
     ]
    }
   ],
   "source": [
    "#Find the Averages of Averages for Meat, see how meat overall has changed. (in Weight)\n",
    "average_changes_meat = []\n",
    "\n",
    "for commodity in meat_commodities:\n",
    "   \n",
    "    commodity_data = meat_availability[meat_availability[\"Commodity\"].str.contains(commodity, case=False)]\n",
    "    \n",
    "    average_change = commodity_data.iloc[:, 1:].diff(axis=1).mean().mean()\n",
    "    \n",
    "    average_changes_meat.append(average_change)\n",
    "\n",
    "average_of_average_changes = sum(average_changes_meat) / len(average_changes_meat)\n",
    "\n",
    "print(\"Average Change of Individual Meat Values:\")\n",
    "for i, commodity in enumerate(meat_commodities):\n",
    "    print(f\"{commodity}: {average_changes_meat[i]}\")\n",
    "\n",
    "\n",
    "print(\"\\nAverage Change of the Previous Values:\")\n",
    "print(average_of_average_changes)"
   ]
  },
  {
   "cell_type": "code",
   "execution_count": 10,
   "id": "e0503ea7",
   "metadata": {},
   "outputs": [
    {
     "name": "stdout",
     "output_type": "stream",
     "text": [
      "Change in Weight from 2018 to 2019:\n",
      "Chicken: 0.22000000000000242\n",
      "Pork: 0.41999999999999815\n",
      "Hen: 0.050000000000000044\n",
      "Offal: 0.030000000000000027\n",
      "Beef: 0.019999999999999574\n",
      "Turkey: -0.29000000000000004\n",
      "Mutton: -0.10000000000000009\n",
      "Veal: -0.030000000000000027\n",
      "\n",
      "Change in Weight from 2019 to 2020:\n",
      "Chicken: -0.45000000000000284\n",
      "Pork: -3.3099999999999987\n",
      "Hen: -0.1200000000000001\n",
      "Offal: -0.17999999999999994\n",
      "Beef: 0.5199999999999996\n",
      "Turkey: -0.11999999999999966\n",
      "Mutton: 0.020000000000000018\n",
      "Veal: 0.039999999999999925\n",
      "\n",
      "Change in Weight from 2020 to 2022:\n",
      "Chicken: 0.6500000000000021\n",
      "Pork: 1.4000000000000021\n",
      "Hen: -0.09999999999999987\n",
      "Offal: -0.17000000000000004\n",
      "Beef: -1.129999999999999\n",
      "Turkey: -0.33000000000000007\n",
      "Mutton: 0.10000000000000009\n",
      "Veal: -0.039999999999999925\n"
     ]
    }
   ],
   "source": [
    "# Initialize a list to store the changes in weight for each commodity\n",
    "changes_2018_2019 = []\n",
    "changes_2019_2020 = []\n",
    "changes_2020_2022 = []\n",
    "\n",
    "for commodity in meat_commodities:\n",
    "    # Filter the data for the specific commodity\n",
    "    commodity_data = meat_availability[meat_availability['Commodity'].str.contains(commodity, case=False)]\n",
    "    \n",
    "    # Extract the weight values for the desired years\n",
    "    weight_2018 = commodity_data['2018'].values[0]\n",
    "    weight_2019 = commodity_data['2019'].values[0]\n",
    "    weight_2020 = commodity_data['2020'].values[0]\n",
    "    weight_2022 = commodity_data['2022'].values[0]\n",
    "    \n",
    "    # Calculate the changes in weight\n",
    "    change_2018_2019 = weight_2019 - weight_2018\n",
    "    change_2019_2020 = weight_2020 - weight_2019\n",
    "    change_2020_2022 = weight_2022 - weight_2020\n",
    "    \n",
    "    # Append the changes to the respective lists\n",
    "    changes_2018_2019.append(change_2018_2019)\n",
    "    changes_2019_2020.append(change_2019_2020)\n",
    "    changes_2020_2022.append(change_2020_2022)\n",
    "\n",
    "# Print the changes in weight for each commodity\n",
    "print(\"Change in Weight from 2018 to 2019:\")\n",
    "for i, commodity in enumerate(meat_commodities):\n",
    "    print(f\"{commodity}: {changes_2018_2019[i]}\")\n",
    "\n",
    "print(\"\\nChange in Weight from 2019 to 2020:\")\n",
    "for i, commodity in enumerate(meat_commodities):\n",
    "    print(f\"{commodity}: {changes_2019_2020[i]}\")\n",
    "\n",
    "print(\"\\nChange in Weight from 2020 to 2022:\")\n",
    "for i, commodity in enumerate(meat_commodities):\n",
    "    print(f\"{commodity}: {changes_2020_2022[i]}\")\n"
   ]
  },
  {
   "cell_type": "code",
   "execution_count": 11,
   "id": "d4ab4ee7",
   "metadata": {},
   "outputs": [
    {
     "name": "stdout",
     "output_type": "stream",
     "text": [
      "Percentage Change of Individual Meat Values:\n",
      "Chicken: 2.0114942528735713%\n",
      "Pork: -6.879039704524462%\n",
      "Hen: -9.999999999999996%\n",
      "Offal: -27.82608695652174%\n",
      "Beef: -2.3200943767204083%\n",
      "Turkey: -21.89349112426035%\n",
      "Mutton: 1.8691588785046744%\n",
      "Veal: -3.2258064516129057%\n",
      "\n",
      "Average Percentage Change of the Previous Values:\n",
      "-8.532983185282703\n"
     ]
    }
   ],
   "source": [
    "# Find the Averages of Averages for Meat, see how meat overall has changed.(in Percentages)\n",
    "average_changes_meat = []\n",
    "\n",
    "for commodity in meat_commodities:\n",
    "    commodity_data = meat_availability[meat_availability[\"Commodity\"].str.contains(commodity, case=False)]\n",
    "    initial_value = commodity_data.iloc[:, 1].values[0]\n",
    "    final_value = commodity_data.iloc[:, -1].values[0]\n",
    "    percentage_change = ((final_value - initial_value) / initial_value) * 100\n",
    "    average_changes_meat.append(percentage_change)\n",
    "\n",
    "average_of_average_changes = sum(average_changes_meat) / len(average_changes_meat)\n",
    "\n",
    "print(\"Percentage Change of Individual Meat Values:\")\n",
    "for i, commodity in enumerate(meat_commodities):\n",
    "    print(f\"{commodity}: {average_changes_meat[i]}%\")\n",
    "\n",
    "print(\"\\nAverage Percentage Change of the Previous Values:\")\n",
    "print(average_of_average_changes)\n"
   ]
  },
  {
   "cell_type": "code",
   "execution_count": 12,
   "id": "29cceae4",
   "metadata": {},
   "outputs": [
    {
     "data": {
      "text/html": [
       "<div>\n",
       "<style scoped>\n",
       "    .dataframe tbody tr th:only-of-type {\n",
       "        vertical-align: middle;\n",
       "    }\n",
       "\n",
       "    .dataframe tbody tr th {\n",
       "        vertical-align: top;\n",
       "    }\n",
       "\n",
       "    .dataframe thead th {\n",
       "        text-align: right;\n",
       "    }\n",
       "</style>\n",
       "<table border=\"1\" class=\"dataframe\">\n",
       "  <thead>\n",
       "    <tr style=\"text-align: right;\">\n",
       "      <th></th>\n",
       "      <th>Commodity</th>\n",
       "      <th>2018</th>\n",
       "      <th>2019</th>\n",
       "      <th>2020</th>\n",
       "      <th>2021</th>\n",
       "      <th>2022</th>\n",
       "    </tr>\n",
       "  </thead>\n",
       "  <tbody>\n",
       "    <tr>\n",
       "      <th>341</th>\n",
       "      <td>Processed sea fish, edible weight 20</td>\n",
       "      <td>2.54</td>\n",
       "      <td>2.63</td>\n",
       "      <td>2.45</td>\n",
       "      <td>2.11</td>\n",
       "      <td>2.35</td>\n",
       "    </tr>\n",
       "    <tr>\n",
       "      <th>342</th>\n",
       "      <td>Total shellfish, edible weight 20</td>\n",
       "      <td>1.57</td>\n",
       "      <td>1.48</td>\n",
       "      <td>1.33</td>\n",
       "      <td>1.18</td>\n",
       "      <td>1.36</td>\n",
       "    </tr>\n",
       "  </tbody>\n",
       "</table>\n",
       "</div>"
      ],
      "text/plain": [
       "                                Commodity  2018  2019  2020  2021  2022\n",
       "341  Processed sea fish, edible weight 20  2.54  2.63  2.45  2.11  2.35\n",
       "342     Total shellfish, edible weight 20  1.57  1.48  1.33  1.18  1.36"
      ]
     },
     "execution_count": 12,
     "metadata": {},
     "output_type": "execute_result"
    }
   ],
   "source": [
    "seafood_commodities = [\"Sea fish\", \"shellfish\"]\n",
    "seafood_availability = food_ava_data[food_ava_data[\"Commodity\"].str.contains('|'.join(seafood_commodities), case=False)]\n",
    "\n",
    "seafood_availability.head()"
   ]
  },
  {
   "cell_type": "code",
   "execution_count": 13,
   "id": "c6ff98d4",
   "metadata": {},
   "outputs": [
    {
     "name": "stdout",
     "output_type": "stream",
     "text": [
      "Average Change of Individual Seafood Values:\n",
      "Sea fish: -0.04749999999999999\n",
      "shellfish: -0.05249999999999999\n",
      "\n",
      "Average Change of the Previous Values:\n",
      "-0.04999999999999999\n"
     ]
    }
   ],
   "source": [
    "#Find the Averages of Averages for Seafood, see how Seafood overall has changed. \n",
    "average_changes_seafood = []\n",
    "\n",
    "for commodity in seafood_commodities:\n",
    "    \n",
    "    commodity_data = seafood_availability[seafood_availability[\"Commodity\"].str.contains(commodity, case=False)]\n",
    "    \n",
    "    average_change = commodity_data.iloc[:, 1:].diff(axis=1).mean().mean()\n",
    "    \n",
    "    average_changes_seafood.append(average_change)\n",
    "\n",
    "average_of_average_changes_seafood = sum(average_changes_seafood) / len(average_changes_seafood)\n",
    "\n",
    "print(\"Average Change of Individual Seafood Values:\")\n",
    "for i, commodity in enumerate(seafood_commodities):\n",
    "    print(f\"{commodity}: {average_changes_seafood[i]}\")\n",
    "\n",
    "print(\"\\nAverage Change of the Previous Values:\")\n",
    "print(average_of_average_changes_seafood)"
   ]
  },
  {
   "cell_type": "code",
   "execution_count": 14,
   "id": "a9887c17",
   "metadata": {},
   "outputs": [
    {
     "name": "stdout",
     "output_type": "stream",
     "text": [
      "           Poultry     Meat  Meats (excluding poultry)\n",
      "2018-2019    0.135  0.04000                   0.030000\n",
      "2019-2020   -0.285 -0.47125                  -0.505000\n",
      "2020-2022    0.275  0.04750                  -0.028333\n"
     ]
    }
   ],
   "source": [
    "# Create a dictionary to store the combined averages\n",
    "combined_averages = {\n",
    "    \"Poultry\": {},\n",
    "    \"Meat\": {},\n",
    "    \"Meats (excluding poultry)\": {}\n",
    "}\n",
    "\n",
    "# Calculate the combined averages for Poultry\n",
    "combined_averages[\"Poultry\"][\"2018-2019\"] = (0.22 + 0.05) / 2\n",
    "combined_averages[\"Poultry\"][\"2019-2020\"] = (-0.45 - 0.12) / 2\n",
    "combined_averages[\"Poultry\"][\"2020-2022\"] = (0.65 - 0.1) / 2\n",
    "\n",
    "# Calculate the combined averages for Meat\n",
    "combined_averages[\"Meat\"][\"2018-2019\"] = (0.22 + 0.42 + 0.05 + 0.03 + 0.02 - 0.29 - 0.1 - 0.03) / 8\n",
    "combined_averages[\"Meat\"][\"2019-2020\"] = (-0.45 - 3.31 - 0.12 - 0.18 + 0.52 - 0.29 + 0.02 + 0.04) / 8\n",
    "combined_averages[\"Meat\"][\"2020-2022\"] = (0.65 + 1.4 - 0.1 - 0.17 - 1.13 - 0.33 + 0.1 - 0.04) / 8\n",
    "\n",
    "# Calculate the combined averages for Meats (excluding poultry)\n",
    "combined_averages[\"Meats (excluding poultry)\"][\"2018-2019\"] = (0.42 + 0.03 + 0.02 - 0.29 - 0.03) / 5\n",
    "combined_averages[\"Meats (excluding poultry)\"][\"2019-2020\"] = (-3.31 - 0.18 + 0.52 - 0.12 + 0.02 + 0.04) / 6\n",
    "combined_averages[\"Meats (excluding poultry)\"][\"2020-2022\"] = (1.4 - 0.17 - 1.13 - 0.33 + 0.1 - 0.04) / 6\n",
    "\n",
    "# Convert the dictionary to a DataFrame\n",
    "combined_averages_df = pd.DataFrame(combined_averages)\n",
    "\n",
    "# Display the combined averages dataset\n",
    "print(combined_averages_df)\n"
   ]
  },
  {
   "cell_type": "code",
   "execution_count": 15,
   "id": "abf99324",
   "metadata": {},
   "outputs": [
    {
     "data": {
      "image/png": "[encoded data removed]",
      "text/plain": [
       "<Figure size 1200x800 with 1 Axes>"
      ]
     },
     "metadata": {},
     "output_type": "display_data"
    }
   ],
   "source": [
    "years = [\"2019\", \"2020\", \"2022\"]\n",
    "poultry_changes = [0.135, -0.285, 0.275]\n",
    "meat_changes = [0.02625, -0.3575, 0.14625]\n",
    "meats_excluding_poultry_changes = [-0.09, -0.5816666666666667, -0.11833333333333333]\n",
    "inflation_changes_meat = [3.80, 4.52, 4.32]\n",
    "inflation_changes_meats_excluding_poultry = [2.81, 5.59, 3.20]\n",
    "inflation_changes_poultry = [3.36, 2.50, 6.46]\n",
    "\n",
    "plt.figure(figsize=(12, 8)) \n",
    "\n",
    "plt.plot(years, poultry_changes, label=\"Poultry Availability\")\n",
    "plt.plot(years, meat_changes, label=\"Meat Availability\")\n",
    "plt.plot(years, meats_excluding_poultry_changes, label=\"Meats excluding Poultry Availability\")\n",
    "\n",
    "plt.plot(years, inflation_changes_meat, linestyle=\"--\", label=\"Inflation Changes (Meat)\")\n",
    "plt.plot(years, inflation_changes_meats_excluding_poultry, linestyle=\"--\", label=\"Inflation Changes (Meats excluding Poultry)\")\n",
    "plt.plot(years, inflation_changes_poultry, linestyle=\"--\", label=\"Inflation Changes (Poultry)\")\n",
    "\n",
    "plt.xlabel(\"Year\")\n",
    "plt.ylabel(\"Percentage Change\")\n",
    "plt.title(\"Food Availability and Inflation Changes Over the Years\")\n",
    "\n",
    "plt.legend(loc=\"upper left\")\n",
    "\n",
    "plt.savefig(\"Food Availability and Inflation Changes Over the Years.png\")\n",
    "\n",
    "plt.show()"
   ]
  },
  {
   "cell_type": "code",
   "execution_count": 16,
   "id": "bea46d95",
   "metadata": {
    "scrolled": true
   },
   "outputs": [
    {
     "data": {
      "image/png": "[encoded data removed]",
      "text/plain": [
       "<Figure size 1200x800 with 1 Axes>"
      ]
     },
     "metadata": {},
     "output_type": "display_data"
    }
   ],
   "source": [
    "# Define the data\n",
    "years = [\"2019\", \"2020\", \"2022\"]\n",
    "poultry_changes = [0.135, -0.285, 0.275]\n",
    "meat_changes = [0.02625, -0.3575, 0.14625]\n",
    "meats_excluding_poultry_changes = [-0.09, -0.5816666666666667, -0.11833333333333333]\n",
    "inflation_changes_meat = [3.80, 4.52, 4.32]\n",
    "inflation_changes_meats_excluding_poultry = [2.81, 5.59, 3.20]\n",
    "inflation_changes_poultry = [3.36, 2.50, 6.46]\n",
    "\n",
    "plt.figure(figsize=(12, 8)) \n",
    "\n",
    "bar_width = 0.35\n",
    "\n",
    "bar_positions = np.arange(len(years))\n",
    "\n",
    "plt.bar(bar_positions - bar_width/2, poultry_changes, width=bar_width, label='Poultry')\n",
    "plt.bar(bar_positions - bar_width/2, meat_changes, width=bar_width, label='Meat')\n",
    "plt.bar(bar_positions - bar_width/2, meats_excluding_poultry_changes, width=bar_width, label='Meats (excluding poultry)')\n",
    "\n",
    "plt.bar(bar_positions + bar_width/2, inflation_changes_meat, width=bar_width, label='Inflation - Meat')\n",
    "plt.bar(bar_positions + bar_width/2, inflation_changes_meats_excluding_poultry, width=bar_width, label='Inflation - Meats (excluding poultry)')\n",
    "plt.bar(bar_positions + bar_width/2, inflation_changes_poultry, width=bar_width, label='Inflation - Poultry')\n",
    "\n",
    "plt.title(\"Changes in Weight in Meats vs Inflation\")\n",
    "plt.xlabel(\"Years\")\n",
    "plt.ylabel(\"Percentage\")\n",
    "\n",
    "plt.xticks(bar_positions, years)\n",
    "\n",
    "plt.legend()\n",
    "\n",
    "plt.savefig(\"Changes in Weight vs Inflation Change per year.png\")\n",
    "\n",
    "plt.show()"
   ]
  },
  {
   "cell_type": "code",
   "execution_count": 17,
   "id": "da648237",
   "metadata": {},
   "outputs": [
    {
     "name": "stdout",
     "output_type": "stream",
     "text": [
      "Correlation: -0.5362347039402047\n",
      "P-value: 0.6396923911512657\n"
     ]
    }
   ],
   "source": [
    "meat_changes = [0.02625, -0.3575, 0.14625]\n",
    "inflation_changes_meat = [3.80, 4.52, 4.32]\n",
    "\n",
    "correlation, p_value = st.pearsonr(meat_changes, inflation_changes_meat)\n",
    "\n",
    "print(f\"Correlation: {correlation}\")\n",
    "print(f\"P-value: {p_value}\")"
   ]
  },
  {
   "cell_type": "code",
   "execution_count": 18,
   "id": "40e8175c",
   "metadata": {},
   "outputs": [
    {
     "name": "stdout",
     "output_type": "stream",
     "text": [
      "Correlation: 0.8271961388150534\n",
      "P-value: 0.37986909094454846\n"
     ]
    }
   ],
   "source": [
    "poultry_changes = [0.135, -0.285, 0.275]\n",
    "inflation_changes_poultry = [3.36, 2.50, 6.46]\n",
    "\n",
    "correlation, p_value = st.pearsonr(poultry_changes, inflation_changes_poultry)\n",
    "\n",
    "print(f\"Correlation: {correlation}\")\n",
    "print(f\"P-value: {p_value}\")"
   ]
  },
  {
   "cell_type": "code",
   "execution_count": 19,
   "id": "797d19d1",
   "metadata": {},
   "outputs": [
    {
     "name": "stdout",
     "output_type": "stream",
     "text": [
      "Correlation: -0.996914212439688\n",
      "P-value: 0.05002531988340623\n"
     ]
    }
   ],
   "source": [
    "meats_excluding_poultry_changes = [-0.09, -0.5816666666666667, -0.11833333333333333]\n",
    "inflation_changes_meats_excluding = [2.81, 5.59, 3.20]\n",
    "\n",
    "correlation, p_value = st.pearsonr(meats_excluding_poultry_changes, inflation_changes_meats_excluding)\n",
    "\n",
    "print(f\"Correlation: {correlation}\")\n",
    "print(f\"P-value: {p_value}\")"
   ]
  },
  {
   "cell_type": "code",
   "execution_count": 20,
   "id": "ea9d2b30",
   "metadata": {},
   "outputs": [
    {
     "data": {
      "image/png": "[encoded data removed]",
      "text/plain": [
       "<Figure size 640x480 with 1 Axes>"
      ]
     },
     "metadata": {},
     "output_type": "display_data"
    }
   ],
   "source": [
    "meat_types = [\"Poultry\", \"Meat (excluding poultry)\", \"All Meats\"  ]\n",
    "availability_change = [-9.63, -7.68, -8.53 ]\n",
    "inflation = [20.67183, 20.17964, 22.30672]\n",
    "\n",
    "# Set the bar width\n",
    "bar_width = 0.35\n",
    "\n",
    "# Set the positions of the bars on the x-axis\n",
    "r1 = np.arange(len(meat_types))\n",
    "r2 = [x + bar_width for x in r1]\n",
    "\n",
    "# Create the grouped bar chart\n",
    "plt.bar(r1, availability_change, color='blue', width=bar_width, label='Availability Change')\n",
    "plt.bar(r2, inflation, color='orange', width=bar_width, label='Inflation')\n",
    "\n",
    "# Add labels and title\n",
    "plt.xlabel(\"Meat Types\")\n",
    "plt.ylabel(\"Percentage Change\")\n",
    "plt.title(\"Availability Change and Inflation for Meat Types (2018-2022)\")\n",
    "\n",
    "# Set x-axis tick labels\n",
    "plt.xticks([r + bar_width/2 for r in range(len(meat_types))], meat_types)\n",
    "\n",
    "# Add a legend\n",
    "plt.legend()\n",
    "\n",
    "# Display the chart\n",
    "plt.show()"
   ]
  },
  {
   "cell_type": "code",
   "execution_count": 21,
   "id": "ed986995",
   "metadata": {},
   "outputs": [
    {
     "name": "stdout",
     "output_type": "stream",
     "text": [
      "Correlation Coefficient: -0.14841103257079208\n"
     ]
    }
   ],
   "source": [
    "availability_change = np.array([-9.63, -7.68, -8.53])\n",
    "inflation = np.array([20.67183, 20.17964, 22.30672])\n",
    "\n",
    "correlation_coefficient = np.corrcoef(availability_change, inflation)[0, 1]\n",
    "\n",
    "print(\"Correlation Coefficient:\", correlation_coefficient)"
   ]
  },
  {
   "cell_type": "code",
   "execution_count": 22,
   "id": "d942d3d5",
   "metadata": {},
   "outputs": [],
   "source": [
    "# Will add some additional information... and might clean up some stuff. "
   ]
  }
 ],
 "metadata": {
  "kernelspec": {
   "display_name": "Python 3 (ipykernel)",
   "language": "python",
   "name": "python3"
  },
  "language_info": {
   "codemirror_mode": {
    "name": "ipython",
    "version": 3
   },
   "file_extension": ".py",
   "mimetype": "text/x-python",
   "name": "python",
   "nbconvert_exporter": "python",
   "pygments_lexer": "ipython3",
   "version": "3.10.11"
  }
 },
 "nbformat": 4,
 "nbformat_minor": 5
}
